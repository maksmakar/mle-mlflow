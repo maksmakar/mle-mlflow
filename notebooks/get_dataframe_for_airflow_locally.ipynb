{
 "cells": [
  {
   "cell_type": "code",
   "execution_count": 1,
   "metadata": {},
   "outputs": [],
   "source": [
    "import psycopg \n",
    "import pandas as pd"
   ]
  },
  {
   "cell_type": "code",
   "execution_count": 2,
   "metadata": {},
   "outputs": [
    {
     "name": "stdout",
     "output_type": "stream",
     "text": [
      "Run id запуска: 4b9a8cbd82d642d4ba2aaf58ff6d5a75\n"
     ]
    }
   ],
   "source": [
    "# делаем import необходимых библиотек\n",
    "import os\n",
    "\n",
    "import mlflow\n",
    "\n",
    "# устанавливаем локальное хранилище для наших экспериментов\n",
    "# хранилище должно быть такое же, как и при запуске сервиса\n",
    "mlflow.set_tracking_uri('file:./mlflow_experiments_store')\n",
    "\n",
    "# получаем id эксеримента, который создаётся по умолчанию\n",
    "# эксперимент по умолчанию называется Default\n",
    "experiment_id = mlflow.get_experiment_by_name(\"Default\").experiment_id\n",
    "\n",
    "# залогируем тестовую метрику и артефакт\n",
    "with mlflow.start_run(run_name='Default', experiment_id=experiment_id) as run:\n",
    "    run_id = run.info.run_id\n",
    "    mlflow.log_metric(\"test_metric\", 0)\n",
    "    mlflow.log_artifact(\"test_artifact.txt\", \"test_artifact\")\n",
    "\n",
    "print(f\"Run id запуска: {run_id}\")"
   ]
  },
  {
   "cell_type": "code",
   "execution_count": 3,
   "metadata": {},
   "outputs": [],
   "source": [
    "connection = {\"sslmode\": \"require\", \"target_session_attrs\": \"read-write\"}\n",
    "postgres_credentials = {\n",
    "    \"host\": \"rc1b-uh7kdmcx67eomesf.mdb.yandexcloud.net\", \n",
    "    \"port\": \"6432\",\n",
    "    \"dbname\": \"playground_mle_20250130_582c662a4e\",\n",
    "    \"user\": \"mle_20250130_582c662a4e\",\n",
    "    \"password\": \"31992be741c54a3f85a88b4082cdcad7\",\n",
    "}\n",
    "assert all([var_value != \"\" for var_value in list(postgres_credentials.values())])\n",
    "\n",
    "connection.update(postgres_credentials)\n",
    "\n",
    "# определим название таблицы, в которой хранятся наши данные.\n",
    "TABLE_NAME = \"users_churn\"\n",
    "\n",
    "# эта конструкция создаёт контекстное управление для соединения с базой данных \n",
    "# оператор with гарантирует, что соединение будет корректно закрыто после выполнения всех операций \n",
    "# закрыто оно будет даже в случае ошибки, чтобы не допустить \"утечку памяти\"\n",
    "with psycopg.connect(**connection) as conn:\n",
    "\n",
    "# создаёт объект курсора для выполнения запросов к базе данных\n",
    "# с помощью метода execute() выполняется SQL-запрос для выборки данных из таблицы TABLE_NAME\n",
    "    with conn.cursor() as cur:\n",
    "        cur.execute(f\"SELECT * FROM {TABLE_NAME}\")\n",
    "                \n",
    "                # извлекаем все строки, полученные в результате выполнения запроса\n",
    "        data = cur.fetchall()\n",
    "\n",
    "                # получает список имён столбцов из объекта курсора\n",
    "        columns = [col[0] for col in cur.description]\n",
    "\n",
    "# создаёт объект DataFrame из полученных данных и имён столбцов. \n",
    "# это позволяет удобно работать с данными в Python, используя библиотеку Pandas.\n",
    "df = pd.DataFrame(data, columns=columns)"
   ]
  },
  {
   "cell_type": "code",
   "execution_count": 4,
   "metadata": {},
   "outputs": [],
   "source": [
    "import json\n",
    "# 1. Название колонок вашего датафрейма запишите в текстовый файл\n",
    "with open(\"columns.txt\", \"w\", encoding=\"utf-8\") as fio:\n",
    "    fio.write(\",\".join(df.columns))\n",
    "    \n",
    "metrics = {\n",
    "    \"num_rows\": len(df),\n",
    "    \"num_columns\": len(df.columns),\n",
    "}\n",
    "\n",
    "with open(\"metrics.json\", \"w\", encoding=\"utf-8\") as f:\n",
    "    json.dump(metrics, f, indent=4)\n",
    "    \n",
    "df.to_csv(\"dataset.csv\", index=False)"
   ]
  },
  {
   "cell_type": "code",
   "execution_count": 5,
   "metadata": {},
   "outputs": [],
   "source": [
    "counts_columns = [\n",
    "    \"type\", \"paperless_billing\", \"internet_service\", \"online_security\", \"online_backup\", \"device_protection\",\n",
    "    \"tech_support\", \"streaming_tv\", \"streaming_movies\", \"gender\", \"senior_citizen\", \"partner\", \"dependents\",\n",
    "    \"multiple_lines\", \"target\"\n",
    "]\n",
    "\n",
    "stats = {}\n",
    "\n",
    "for col in counts_columns:\n",
    "    # Посчитать количество уникальных значений в колонке\n",
    "    column_stat = df[col].value_counts().to_dict()\n",
    "    column_stat = {f\"{col}_{key}\": value for key, value in column_stat.items()}\n",
    "\n",
    "    # Обновить словарь stats\n",
    "    stats.update(column_stat)\n",
    "\n",
    "# Общая длина данных\n",
    "stats[\"data_length\"] = df.shape[0]\n",
    "\n",
    "# Статистики по monthly_charges\n",
    "stats[\"monthly_charges_min\"] = df[\"monthly_charges\"].min()\n",
    "stats[\"monthly_charges_max\"] = df[\"monthly_charges\"].max()\n",
    "stats[\"monthly_charges_mean\"] = df[\"monthly_charges\"].mean()\n",
    "stats[\"monthly_charges_median\"] = df[\"monthly_charges\"].median()\n",
    "\n",
    "# Статистики по total_charges\n",
    "stats[\"total_charges_min\"] = df[\"total_charges\"].min()\n",
    "stats[\"total_charges_max\"] = df[\"total_charges\"].max()\n",
    "stats[\"total_charges_mean\"] = df[\"total_charges\"].mean()\n",
    "stats[\"total_charges_median\"] = df[\"total_charges\"].median()\n",
    "\n",
    "# Количество уникальных пользователей\n",
    "stats[\"unique_customers_number\"] = df[\"customer_id\"].nunique()\n",
    "\n",
    "# Количество пропусков в end_date\n",
    "stats[\"end_date_nan\"] = df[\"end_date\"].isna().sum()"
   ]
  },
  {
   "cell_type": "code",
   "execution_count": 6,
   "metadata": {},
   "outputs": [],
   "source": [
    "import mlflow\n",
    "import os\n",
    "import json\n",
    "\n",
    "# задаём название эксперимента и имя запуска для логирования в MLflow\n",
    "EXPERIMENT_NAME = \"churn_fio\"\n",
    "RUN_NAME = \"data_check\"\n",
    "\n",
    "# создаём новый эксперимент в MLflow с указанным названием \n",
    "# если эксперимент с таким именем уже существует, \n",
    "# MLflow возвращает идентификатор существующего эксперимента\n",
    "experiment = mlflow.get_experiment_by_name(EXPERIMENT_NAME)\n",
    "if experiment is None:\n",
    "    experiment_id = mlflow.create_experiment(EXPERIMENT_NAME)\n",
    "else:\n",
    "    experiment_id = experiment.experiment_id\n",
    "\n",
    "# Проверка наличия файлов перед логированием и их создание, если их нет\n",
    "columns_file_path = \"columns.txt\"\n",
    "dataset_file_path = 'users_churn.csv'\n",
    "\n",
    "# Проверка на существование файла и его создание\n",
    "if not os.path.exists(columns_file_path):\n",
    "    with open(columns_file_path, \"w\", encoding=\"utf-8\") as f:\n",
    "        f.write(\",\".join(df.columns))\n",
    "\n",
    "if not os.path.exists(dataset_file_path):\n",
    "    df.to_csv(dataset_file_path, index=False)\n",
    "\n",
    "# Убедимся, что файлы существуют\n",
    "assert os.path.exists(columns_file_path), f\"{columns_file_path} does not exist.\"\n",
    "assert os.path.exists(dataset_file_path), f\"{dataset_file_path} does not exist.\"\n",
    "\n",
    "# Начинаем логирование, передавая experiment_id\n",
    "with mlflow.start_run(experiment_id=experiment_id, run_name=RUN_NAME) as run:\n",
    "    run_id = run.info.run_id  # Получаем уникальный ID запуска\n",
    "    \n",
    "    # Логируем метрики\n",
    "    mlflow.log_metrics(stats)\n",
    "\n",
    "    # Логируем файлы как артефакты эксперимента, передавая абсолютный путь\n",
    "    mlflow.log_artifact('columns.txt', artifact_path=\"dataframe\")\n",
    "    mlflow.log_artifact('users_churn.csv', artifact_path=\"dataframe\")\n",
    "\n",
    "# Получаем информацию о запуске\n",
    "run = mlflow.get_run(run_id)\n",
    "\n",
    "# Проверяем статус завершённого эксперимента\n",
    "assert run.info.status == \"FINISHED\"\n",
    "\n",
    "# Удаляем файлы после логирования\n",
    "os.remove(columns_file_path)\n",
    "os.remove(dataset_file_path)"
   ]
  },
  {
   "cell_type": "code",
   "execution_count": null,
   "metadata": {},
   "outputs": [],
   "source": []
  },
  {
   "cell_type": "code",
   "execution_count": 7,
   "metadata": {},
   "outputs": [
    {
     "name": "stdout",
     "output_type": "stream",
     "text": [
      "experiment_id = 214559774650967674\n",
      "experiment_name = 'churn_fio'\n",
      "run_count = 1\n"
     ]
    }
   ],
   "source": [
    "EXPERIMENT_NAME = \"churn_fio\"\n",
    "\n",
    "experiment = mlflow.get_experiment_by_name(EXPERIMENT_NAME)\n",
    "\n",
    "if experiment:\n",
    "    experiment_id = experiment.experiment_id\n",
    "    experiment_name = experiment.name\n",
    "    run_count = len(mlflow.search_runs(experiment_ids=[experiment_id]))\n",
    "    \n",
    "    print(f\"experiment_id = {experiment_id}\")\n",
    "    print(f\"experiment_name = '{experiment_name}'\")\n",
    "    print(f\"run_count = {run_count}\")"
   ]
  },
  {
   "cell_type": "code",
   "execution_count": null,
   "metadata": {},
   "outputs": [],
   "source": []
  },
  {
   "cell_type": "code",
   "execution_count": null,
   "metadata": {},
   "outputs": [],
   "source": []
  },
  {
   "cell_type": "code",
   "execution_count": null,
   "metadata": {},
   "outputs": [],
   "source": []
  },
  {
   "cell_type": "code",
   "execution_count": null,
   "metadata": {},
   "outputs": [],
   "source": []
  }
 ],
 "metadata": {
  "kernelspec": {
   "display_name": ".venv_mlflow",
   "language": "python",
   "name": "python3"
  },
  "language_info": {
   "codemirror_mode": {
    "name": "ipython",
    "version": 3
   },
   "file_extension": ".py",
   "mimetype": "text/x-python",
   "name": "python",
   "nbconvert_exporter": "python",
   "pygments_lexer": "ipython3",
   "version": "3.10.12"
  }
 },
 "nbformat": 4,
 "nbformat_minor": 2
}
